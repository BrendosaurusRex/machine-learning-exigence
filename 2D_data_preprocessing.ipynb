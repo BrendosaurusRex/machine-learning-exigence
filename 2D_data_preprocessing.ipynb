{
 "cells": [
  {
   "cell_type": "markdown",
   "metadata": {},
   "source": [
    "# 2D Data Preprocessing"
   ]
  },
  {
   "cell_type": "code",
   "execution_count": 1,
   "metadata": {},
   "outputs": [],
   "source": [
    "import os\n",
    "import glob\n",
    "import pydicom\n",
    "import pandas as pd\n",
    "\n",
    "DATA_DIR = \"train/\"\n",
    "patients = os.listdir(DATA_DIR)\n",
    "train_image_files = sorted(glob.glob(os.path.join(DATA_DIR, '*','*.dcm')))\n",
    "\n",
    "labels_df = pd.read_csv(\"train.csv\", index_col=0)"
   ]
  },
  {
   "cell_type": "code",
   "execution_count": 2,
   "metadata": {},
   "outputs": [],
   "source": [
    "import cv2\n",
    "import math\n",
    "import numpy as np\n",
    "import matplotlib.pyplot as plt\n",
    "\n",
    "IMG_SIZE = 70    # recommended minimum: 70\n",
    "SAVE_FILE = \"{}data-{}x{}.npy\".format(\"small-train\", IMG_SIZE, IMG_SIZE)"
   ]
  },
  {
   "cell_type": "code",
   "execution_count": 3,
   "metadata": {},
   "outputs": [],
   "source": [
    "def mean(l):\n",
    "    return sum(l)/len(l)\n",
    "\n",
    "def normalize(a):\n",
    "    a[a < 0] = 0\n",
    "    norm = np.linalg.norm(a)\n",
    "    if norm == 0:\n",
    "        return a\n",
    "    return a / norm\n",
    "\n",
    "\n",
    "def process_data(patient, labels_df, img_px_size=70):\n",
    "    \n",
    "    print(patient)\n",
    "    path = os.path.join(DATA_DIR, patient)\n",
    "    slices = [pydicom.read_file(os.path.join(path, file)) for file in os.listdir(path)]\n",
    "    slices.sort(key = lambda x: int(x.ImagePositionPatient[2])) # sorts images serially\n",
    "    \n",
    "    FVC = np.array(labels_df.at[patient, \"FVC\"])\n",
    "    Weeks = np.array(labels_df.at[patient, \"Weeks\"])\n",
    "    m, b = np.polyfit(Weeks, FVC, 1) # y = m*x + b; where x = Weeks, and y = FVC\n",
    "    \n",
    "    new_slices = []\n",
    "    slopes = []\n",
    "    intercepts = []\n",
    "   \n",
    "    for each_slice in slices:\n",
    "        new_slices.append(cv2.resize(normalize(each_slice.pixel_array), (img_px_size, img_px_size)))\n",
    "        slopes.append(-m)\n",
    "        intercepts.append(b)\n",
    "\n",
    "        \n",
    "    '''\n",
    "    Obtain slope of FVC Score as label\n",
    "    Possibly check R^2 values as a counterpart to confidence score\n",
    "    Check if non-linear functions describe FVC trends better than linear functions\n",
    "    If so, brainstorm a numeric readout (to replace slope) from the non-linear f(x) that works best\n",
    "    '''\n",
    "    \n",
    "   \n",
    "    return np.array(new_slices), np.array(slopes), np.array(intercepts)"
   ]
  },
  {
   "cell_type": "code",
   "execution_count": 4,
   "metadata": {
    "scrolled": true
   },
   "outputs": [
    {
     "name": "stdout",
     "output_type": "stream",
     "text": [
      "ID00007637202177411956430\n",
      "ID00009637202177434476278\n",
      "ID00010637202177584971671\n",
      "ID00011637202177653955184\n",
      "GDCM required!\n",
      "ID00012637202177665765362\n",
      "ID00014637202177757139317\n",
      "ID00015637202177877247924\n",
      "ID00019637202178323708467\n",
      "ID00020637202178344345685\n",
      "ID00023637202179104603099\n",
      "Save successful!\n",
      "Runtime Errors: 1\n"
     ]
    }
   ],
   "source": [
    "much_data = []\n",
    "slopes_data = [] \n",
    "intercepts_data = []\n",
    "num_key_errors = 0\n",
    "num_run_errors = 0\n",
    "num_attribute_errors = 0\n",
    "\n",
    "for num, patient in enumerate(patients[:10]):\n",
    "    if num%100 == 0 and num != 0:\n",
    "        print(num)\n",
    "\n",
    "    \n",
    "    \"\"\"\n",
    "    This is a work-around for files that require GDCM to read. Try implementing get_pixeldata() method.\n",
    "    \"\"\"      \n",
    "    try:\n",
    "        img_data, slopes_data, intercepts_data = process_data(patient, \n",
    "                                                              labels_df, \n",
    "                                                              img_px_size=IMG_SIZE) \n",
    "        \n",
    "        \"\"\"Try a dictionary for img_data to make the dimensions the same across *_data\"\"\"\n",
    "        much_data += zip(img_data, slopes_data, intercepts_data)\n",
    "        \n",
    "        \n",
    "    except KeyError:\n",
    "        print(\"Unlabeled data!\") # error that Sentdex handled\n",
    "        num_key_errors += 1\n",
    "        \n",
    "    except RuntimeError:\n",
    "        print(\"GDCM required!\") # error that requires GDCM dependency\n",
    "        num_run_errors += 1\n",
    "        \n",
    "    except AttributeError:\n",
    "        print(\"Missing ImagePositionPatient!\") # use \n",
    "        num_attribute_errors += 1    \n",
    "  \n",
    "    except Error as e:\n",
    "        print(e)\n",
    "    \n",
    "np.save(SAVE_FILE, much_data, allow_pickle=True)\n",
    "print(\"Save successful!\")\n",
    "\n",
    "if num_key_errors:\n",
    "    print(\"KeyErrors: {}\".format(num_key_errors))\n",
    "if num_run_errors:\n",
    "    print(\"Runtime Errors: {}\".format(num_run_errors))\n",
    "if num_attribute_errors:\n",
    "    print(\"Attribute Errors: {}\".format(num_attribute_errors))"
   ]
  },
  {
   "cell_type": "code",
   "execution_count": 5,
   "metadata": {
    "scrolled": true
   },
   "outputs": [
    {
     "name": "stdout",
     "output_type": "stream",
     "text": [
      "(array([[0., 0., 0., ..., 0., 0., 0.],\n",
      "       [0., 0., 0., ..., 0., 0., 0.],\n",
      "       [0., 0., 0., ..., 0., 0., 0.],\n",
      "       ...,\n",
      "       [0., 0., 0., ..., 0., 0., 0.],\n",
      "       [0., 0., 0., ..., 0., 0., 0.],\n",
      "       [0., 0., 0., ..., 0., 0., 0.]]), 3.167125870069571, 2174.4161832946634)\n"
     ]
    }
   ],
   "source": [
    "print(much_data[0])"
   ]
  },
  {
   "cell_type": "code",
   "execution_count": 6,
   "metadata": {
    "scrolled": true
   },
   "outputs": [
    {
     "data": {
      "text/plain": [
       "(70, 70)"
      ]
     },
     "execution_count": 6,
     "metadata": {},
     "output_type": "execute_result"
    }
   ],
   "source": [
    "np.shape(much_data[0][0])"
   ]
  },
  {
   "cell_type": "code",
   "execution_count": 7,
   "metadata": {},
   "outputs": [],
   "source": [
    "# much_data[529][2]"
   ]
  },
  {
   "cell_type": "code",
   "execution_count": 8,
   "metadata": {},
   "outputs": [
    {
     "data": {
      "text/plain": [
       "(1454, 3)"
      ]
     },
     "execution_count": 8,
     "metadata": {},
     "output_type": "execute_result"
    }
   ],
   "source": [
    "images = np.load(SAVE_FILE, allow_pickle=True)\n",
    "images.shape"
   ]
  },
  {
   "cell_type": "code",
   "execution_count": 9,
   "metadata": {
    "scrolled": true
   },
   "outputs": [
    {
     "name": "stdout",
     "output_type": "stream",
     "text": [
      "[[array([[0., 0., 0., ..., 0., 0., 0.],\n",
      "       [0., 0., 0., ..., 0., 0., 0.],\n",
      "       [0., 0., 0., ..., 0., 0., 0.],\n",
      "       ...,\n",
      "       [0., 0., 0., ..., 0., 0., 0.],\n",
      "       [0., 0., 0., ..., 0., 0., 0.],\n",
      "       [0., 0., 0., ..., 0., 0., 0.]])\n",
      "  3.167125870069571 2174.4161832946634]\n",
      " [array([[0., 0., 0., ..., 0., 0., 0.],\n",
      "       [0., 0., 0., ..., 0., 0., 0.],\n",
      "       [0., 0., 0., ..., 0., 0., 0.],\n",
      "       ...,\n",
      "       [0., 0., 0., ..., 0., 0., 0.],\n",
      "       [0., 0., 0., ..., 0., 0., 0.],\n",
      "       [0., 0., 0., ..., 0., 0., 0.]])\n",
      "  3.167125870069571 2174.4161832946634]\n",
      " [array([[0., 0., 0., ..., 0., 0., 0.],\n",
      "       [0., 0., 0., ..., 0., 0., 0.],\n",
      "       [0., 0., 0., ..., 0., 0., 0.],\n",
      "       ...,\n",
      "       [0., 0., 0., ..., 0., 0., 0.],\n",
      "       [0., 0., 0., ..., 0., 0., 0.],\n",
      "       [0., 0., 0., ..., 0., 0., 0.]])\n",
      "  3.167125870069571 2174.4161832946634]\n",
      " ...\n",
      " [array([[2.22442343e-05, 6.95026022e-05, 4.58766133e-05, ...,\n",
      "        1.41921095e-04, 2.09810421e-04, 1.08554498e-04],\n",
      "       [5.15024340e-05, 1.21519200e-04, 2.14887178e-04, ...,\n",
      "        2.88683984e-04, 6.32559506e-05, 2.55630015e-04],\n",
      "       [3.19759946e-04, 1.28000323e-05, 9.88020924e-06, ...,\n",
      "        1.04209172e-04, 6.00726553e-05, 9.99424947e-05],\n",
      "       ...,\n",
      "       [5.23373362e-04, 2.51480818e-04, 2.96676631e-04, ...,\n",
      "        6.75823516e-04, 6.03203978e-04, 4.99803411e-04],\n",
      "       [1.65517099e-04, 4.27473397e-04, 3.06613369e-04, ...,\n",
      "        3.50693357e-04, 4.19808616e-04, 2.43292533e-04],\n",
      "       [3.77505099e-04, 2.28701283e-04, 4.96487888e-04, ...,\n",
      "        3.65811060e-04, 5.78704992e-05, 1.99778322e-04]])\n",
      "  2.5491517721902395 1479.9129809148737]\n",
      " [array([[9.46644473e-05, 1.12213994e-04, 4.27548745e-05, ...,\n",
      "        2.21091541e-04, 1.19129187e-04, 3.25346625e-05],\n",
      "       [9.27148920e-05, 1.02367371e-04, 9.58658114e-05, ...,\n",
      "        1.41426403e-04, 6.71258373e-05, 1.41861834e-04],\n",
      "       [6.25114840e-05, 7.96828798e-05, 1.42795046e-04, ...,\n",
      "        1.40843463e-04, 9.79998801e-05, 2.53426990e-05],\n",
      "       ...,\n",
      "       [3.43212480e-04, 3.16845834e-04, 5.11416123e-04, ...,\n",
      "        4.94903703e-04, 3.49389114e-04, 4.14047339e-04],\n",
      "       [4.66202254e-04, 3.91922978e-04, 4.74277752e-04, ...,\n",
      "        1.89916904e-04, 3.62830705e-04, 4.67503985e-04],\n",
      "       [5.38167003e-04, 2.57941483e-04, 2.60962128e-04, ...,\n",
      "        5.92888376e-04, 2.23703621e-04, 6.59879884e-04]])\n",
      "  2.5491517721902395 1479.9129809148737]\n",
      " [array([[1.03072258e-04, 5.87920406e-05, 9.69583250e-05, ...,\n",
      "        2.71416319e-04, 1.71539196e-04, 5.94179833e-05],\n",
      "       [1.88801295e-04, 9.88984335e-05, 8.46121796e-05, ...,\n",
      "        2.86593861e-05, 1.22585866e-04, 6.66142317e-05],\n",
      "       [1.60897646e-04, 1.86526757e-05, 1.25293226e-04, ...,\n",
      "        1.69491275e-04, 1.56993354e-04, 5.36970967e-05],\n",
      "       ...,\n",
      "       [4.21783891e-04, 3.77360796e-04, 3.15378855e-04, ...,\n",
      "        2.20911740e-04, 4.32902749e-04, 2.43463474e-04],\n",
      "       [2.98431297e-04, 3.75182557e-04, 4.75200988e-04, ...,\n",
      "        2.19519593e-04, 3.83701345e-04, 2.64148370e-04],\n",
      "       [3.34063979e-04, 3.17814589e-04, 1.99288976e-04, ...,\n",
      "        4.08241860e-04, 3.98896158e-04, 2.58318624e-04]])\n",
      "  2.5491517721902395 1479.9129809148737]]\n"
     ]
    }
   ],
   "source": [
    "print(images)"
   ]
  },
  {
   "cell_type": "code",
   "execution_count": 10,
   "metadata": {},
   "outputs": [
    {
     "data": {
      "text/plain": [
       "<matplotlib.image.AxesImage at 0x12d1ff20910>"
      ]
     },
     "execution_count": 10,
     "metadata": {},
     "output_type": "execute_result"
    },
    {
     "data": {
      "image/png": "[encoded data removed]",
      "text/plain": [
       "<Figure size 432x288 with 1 Axes>"
      ]
     },
     "metadata": {
      "needs_background": "light"
     },
     "output_type": "display_data"
    }
   ],
   "source": [
    "plt.imshow(images[0][0], cmap='gray')"
   ]
  },
  {
   "cell_type": "code",
   "execution_count": 11,
   "metadata": {},
   "outputs": [],
   "source": [
    "# import scipy.ndimage as ndimage\n",
    "# from skimage import measure, morphology, segmentation\n",
    "# from skimage.measure import label, regionprops\n",
    "# from skimage.segmentation import clear_border\n",
    "# from sklearn.cluster import KMeans\n",
    "\n",
    "# def make_lungmask(img, display=False):\n",
    "#     row_size= img.shape[0]\n",
    "#     col_size = img.shape[1]\n",
    "    \n",
    "#     mean = np.mean(img)\n",
    "#     std = np.std(img)\n",
    "#     img = img-mean\n",
    "#     img = img/std\n",
    "    \n",
    "#     # Find the average pixel value near the lungs\n",
    "#     # to renormalize washed out images\n",
    "#     middle = img[int(col_size/5):int(col_size/5*4),int(row_size/5):int(row_size/5*4)] \n",
    "#     mean = np.mean(middle)  \n",
    "#     max = np.max(img)\n",
    "#     min = np.min(img)\n",
    "    \n",
    "#     # To improve threshold finding, I'm moving the \n",
    "#     # underflow and overflow on the pixel spectrum\n",
    "#     img[img==max]=mean\n",
    "#     img[img==min]=mean\n",
    "    \n",
    "#     # Using Kmeans to separate foreground (soft tissue / bone) and background (lung/air)\n",
    "    \n",
    "#     kmeans = KMeans(n_clusters=2).fit(np.reshape(middle,[np.prod(middle.shape),1]))\n",
    "#     centers = sorted(kmeans.cluster_centers_.flatten())\n",
    "#     threshold = np.mean(centers)\n",
    "#     thresh_img = np.where(img<threshold,1.0,0.0)  # threshold the image\n",
    "\n",
    "#     # First erode away the finer elements, then dilate to include some of the pixels surrounding the lung.  \n",
    "#     # We don't want to accidentally clip the lung.\n",
    "\n",
    "#     eroded = morphology.erosion(thresh_img,np.ones([3,3]))\n",
    "#     dilation = morphology.dilation(eroded,np.ones([8,8]))\n",
    "\n",
    "#     labels = measure.label(dilation) # Different labels are displayed in different colors\n",
    "#     label_vals = np.unique(labels)\n",
    "#     regions = measure.regionprops(labels)\n",
    "#     good_labels = []\n",
    "#     for prop in regions:\n",
    "#         B = prop.bbox\n",
    "#         if B[2]-B[0]<row_size/10*9 and B[3]-B[1]<col_size/10*9 and B[0]>row_size/5 and B[2]<col_size/5*4:\n",
    "#             good_labels.append(prop.label)\n",
    "#     mask = np.ndarray([row_size,col_size],dtype=np.int8)\n",
    "#     mask[:] = 0\n",
    "\n",
    "\n",
    "#     #  After just the lungs are left, we do another large dilation\n",
    "#     #  in order to fill in and out the lung mask \n",
    "    \n",
    "#     for N in good_labels:\n",
    "#         mask = mask + np.where(labels==N,1,0)\n",
    "#     mask = morphology.dilation(mask,np.ones([10,10])) # one last dilation\n",
    "\n",
    "#     if (display):\n",
    "#         fig, ax = plt.subplots(3, 2, figsize=[12, 12])\n",
    "#         ax[0, 0].set_title(\"Original\")\n",
    "#         ax[0, 0].imshow(img, cmap='gray')\n",
    "#         ax[0, 0].axis('off')\n",
    "#         ax[0, 1].set_title(\"Threshold\")\n",
    "#         ax[0, 1].imshow(thresh_img, cmap='gray')\n",
    "#         ax[0, 1].axis('off')\n",
    "#         ax[1, 0].set_title(\"After Erosion and Dilation\")\n",
    "#         ax[1, 0].imshow(dilation, cmap='gray')\n",
    "#         ax[1, 0].axis('off')\n",
    "#         ax[1, 1].set_title(\"Color Labels\")\n",
    "#         ax[1, 1].imshow(labels)\n",
    "#         ax[1, 1].axis('off')\n",
    "#         ax[2, 0].set_title(\"Final Mask\")\n",
    "#         ax[2, 0].imshow(mask, cmap='gray')\n",
    "#         ax[2, 0].axis('off')\n",
    "#         ax[2, 1].set_title(\"Apply Mask on Original\")\n",
    "#         ax[2, 1].imshow(mask*img, cmap='gray')\n",
    "#         ax[2, 1].axis('off')\n",
    "        \n",
    "#         plt.show()\n",
    "#     return mask*img"
   ]
  },
  {
   "cell_type": "code",
   "execution_count": null,
   "metadata": {},
   "outputs": [],
   "source": []
  },
  {
   "cell_type": "code",
   "execution_count": null,
   "metadata": {},
   "outputs": [],
   "source": []
  }
 ],
 "metadata": {
  "kernelspec": {
   "display_name": "Python 3",
   "language": "python",
   "name": "python3"
  },
  "language_info": {
   "codemirror_mode": {
    "name": "ipython",
    "version": 3
   },
   "file_extension": ".py",
   "mimetype": "text/x-python",
   "name": "python",
   "nbconvert_exporter": "python",
   "pygments_lexer": "ipython3",
   "version": "3.8.3"
  }
 },
 "nbformat": 4,
 "nbformat_minor": 2
}
