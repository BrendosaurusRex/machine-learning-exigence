{
 "cells": [
  {
   "cell_type": "markdown",
   "metadata": {},
   "source": [
    "# 2D Data Preprocessing"
   ]
  },
  {
   "cell_type": "code",
   "execution_count": 1,
   "metadata": {},
   "outputs": [],
   "source": [
    "import os\n",
    "import glob\n",
    "import pydicom\n",
    "import pandas as pd\n",
    "\n",
    "DATA_DIR = \"train/\"\n",
    "patients = os.listdir(DATA_DIR)\n",
    "train_image_files = sorted(glob.glob(os.path.join(DATA_DIR, '*','*.dcm')))\n",
    "\n",
    "labels_df = pd.read_csv(\"train.csv\", index_col=0)"
   ]
  },
  {
   "cell_type": "code",
   "execution_count": 2,
   "metadata": {},
   "outputs": [],
   "source": [
    "import cv2\n",
    "import math\n",
    "import numpy as np\n",
    "import matplotlib.pyplot as plt\n",
    "\n",
    "IMG_SIZE = 80    # recommended minimum: 70\n",
    "SAVE_FILE = \"{}data-{}x{}.npy\".format(\"masked-train\", IMG_SIZE, IMG_SIZE)"
   ]
  },
  {
   "cell_type": "code",
   "execution_count": 4,
   "metadata": {},
   "outputs": [],
   "source": [
    "from skimage import measure, morphology, segmentation\n",
    "import scipy.ndimage as ndimage\n",
    "from skimage.measure import label, regionprops\n",
    "from skimage.segmentation import clear_border\n",
    "from sklearn.cluster import KMeans\n",
    "\n",
    "def make_lungmask(img, display=False):\n",
    "    row_size= img.shape[0]\n",
    "    col_size = img.shape[1]\n",
    "    \n",
    "    mean = np.mean(img)\n",
    "    std = np.std(img)\n",
    "    img = img-mean\n",
    "    img = img/std\n",
    "    \n",
    "    # Find the average pixel value near the lungs\n",
    "    # to renormalize washed out images\n",
    "    middle = img[int(col_size/5):int(col_size/5*4),int(row_size/5):int(row_size/5*4)] \n",
    "    mean = np.mean(middle)  \n",
    "    max = np.max(img)\n",
    "    min = np.min(img)\n",
    "    \n",
    "    # To improve threshold finding, I'm moving the \n",
    "    # underflow and overflow on the pixel spectrum\n",
    "    img[img==max]=mean\n",
    "    img[img==min]=mean\n",
    "    \n",
    "    # Using Kmeans to separate foreground (soft tissue / bone) and background (lung/air)\n",
    "    \n",
    "    kmeans = KMeans(n_clusters=2).fit(np.reshape(middle,[np.prod(middle.shape),1]))\n",
    "    centers = sorted(kmeans.cluster_centers_.flatten())\n",
    "    threshold = np.mean(centers)\n",
    "    thresh_img = np.where(img<threshold,1.0,0.0)  # threshold the image\n",
    "\n",
    "    # First erode away the finer elements, then dilate to include some of the pixels surrounding the lung.  \n",
    "    # We don't want to accidentally clip the lung.\n",
    "\n",
    "    eroded = morphology.erosion(thresh_img,np.ones([3,3]))\n",
    "    dilation = morphology.dilation(eroded,np.ones([8,8]))\n",
    "\n",
    "    labels = measure.label(dilation) # Different labels are displayed in different colors\n",
    "    label_vals = np.unique(labels)\n",
    "    regions = measure.regionprops(labels)\n",
    "    good_labels = []\n",
    "    for prop in regions:\n",
    "        B = prop.bbox\n",
    "        if B[2]-B[0]<row_size/10*9 and B[3]-B[1]<col_size/10*9 and B[0]>row_size/5 and B[2]<col_size/5*4:\n",
    "            good_labels.append(prop.label)\n",
    "    mask = np.ndarray([row_size,col_size],dtype=np.int8)\n",
    "    mask[:] = 0\n",
    "\n",
    "\n",
    "    #  After just the lungs are left, we do another large dilation\n",
    "    #  in order to fill in and out the lung mask \n",
    "    \n",
    "    for N in good_labels:\n",
    "        mask = mask + np.where(labels==N,1,0)\n",
    "    mask = morphology.dilation(mask,np.ones([10,10])) # one last dilation\n",
    "\n",
    "    if (display):\n",
    "        fig, ax = plt.subplots(3, 2, figsize=[12, 12])\n",
    "        ax[0, 0].set_title(\"Original\")\n",
    "        ax[0, 0].imshow(img, cmap='gray')\n",
    "        ax[0, 0].axis('off')\n",
    "        ax[0, 1].set_title(\"Threshold\")\n",
    "        ax[0, 1].imshow(thresh_img, cmap='gray')\n",
    "        ax[0, 1].axis('off')\n",
    "        ax[1, 0].set_title(\"After Erosion and Dilation\")\n",
    "        ax[1, 0].imshow(dilation, cmap='gray')\n",
    "        ax[1, 0].axis('off')\n",
    "        ax[1, 1].set_title(\"Color Labels\")\n",
    "        ax[1, 1].imshow(labels)\n",
    "        ax[1, 1].axis('off')\n",
    "        ax[2, 0].set_title(\"Final Mask\")\n",
    "        ax[2, 0].imshow(mask, cmap='gray')\n",
    "        ax[2, 0].axis('off')\n",
    "        ax[2, 1].set_title(\"Apply Mask on Original\")\n",
    "        ax[2, 1].imshow(mask*img, cmap='gray')\n",
    "        ax[2, 1].axis('off')\n",
    "        \n",
    "        plt.show()\n",
    "    return mask*img"
   ]
  },
  {
   "cell_type": "code",
   "execution_count": 5,
   "metadata": {},
   "outputs": [],
   "source": [
    "def mean(l):\n",
    "    return sum(l)/len(l)\n",
    "\n",
    "def normalize(a):\n",
    "    a[a < 0] = 0\n",
    "    norm = np.linalg.norm(a)\n",
    "    if norm == 0:\n",
    "        return a\n",
    "    return a / norm\n",
    "\n",
    "\n",
    "def process_data(patient, labels_df, img_px_size=70):\n",
    "    \n",
    "    print(patient)\n",
    "    path = os.path.join(DATA_DIR, patient)\n",
    "    slices = [pydicom.read_file(os.path.join(path, file)) for file in os.listdir(path)]\n",
    "    slices.sort(key = lambda x: int(x.ImagePositionPatient[2])) # sorts images serially\n",
    "    \n",
    "    FVC = np.array(labels_df.at[patient, \"FVC\"])\n",
    "    Weeks = np.array(labels_df.at[patient, \"Weeks\"])\n",
    "    m, b = np.polyfit(Weeks, FVC, 1) # y = m*x + b; where x = Weeks, and y = FVC\n",
    "    \n",
    "    new_slices = []\n",
    "    slopes = []\n",
    "    intercepts = []\n",
    "   \n",
    "    for each_slice in slices:\n",
    "        new_slices.append(cv2.resize(normalize(make_lungmask(each_slice.pixel_array)), (img_px_size, img_px_size)))\n",
    "        slopes.append(-m)\n",
    "        intercepts.append(b)\n",
    "\n",
    "        \n",
    "    '''\n",
    "    Obtain slope of FVC Score as label\n",
    "    Possibly check R^2 values as a counterpart to confidence score\n",
    "    Check if non-linear functions describe FVC trends better than linear functions\n",
    "    If so, brainstorm a numeric readout (to replace slope) from the non-linear f(x) that works best\n",
    "    '''\n",
    "    \n",
    "   \n",
    "    return np.array(new_slices), np.array(slopes), np.array(intercepts)"
   ]
  },
  {
   "cell_type": "code",
   "execution_count": null,
   "metadata": {
    "scrolled": true
   },
   "outputs": [
    {
     "name": "stdout",
     "output_type": "stream",
     "text": [
      "ID00007637202177411956430\n"
     ]
    }
   ],
   "source": [
    "much_data = []\n",
    "slopes_data = [] \n",
    "intercepts_data = []\n",
    "num_key_errors = 0\n",
    "num_run_errors = 0\n",
    "num_att_errors = 0\n",
    "num_val_errors = 0\n",
    "\n",
    "for patient in patients:\n",
    "    \n",
    "    \"\"\"\n",
    "    This is a work-around for files that require GDCM to read. Try implementing get_pixeldata() method.\n",
    "    \"\"\"      \n",
    "    try:\n",
    "        img_data, slopes_data, intercepts_data = process_data(patient, \n",
    "                                                              labels_df, \n",
    "                                                              img_px_size=IMG_SIZE) \n",
    "        \n",
    "        \"\"\"Try a dictionary for img_data to make the dimensions the same across *_data\"\"\"\n",
    "        much_data += zip(img_data, slopes_data, intercepts_data)\n",
    "        \n",
    "        \n",
    "    except KeyError:\n",
    "        print(\"Unlabeled data!\") # error that Sentdex handled\n",
    "        num_key_errors += 1\n",
    "        \n",
    "    except RuntimeError:\n",
    "        print(\"GDCM required!\") # error that requires GDCM dependency\n",
    "        num_run_errors += 1\n",
    "        \n",
    "    except AttributeError:\n",
    "        print(\"Missing ImagePositionPatient!\")\n",
    "        num_att_errors += 1    \n",
    "  \n",
    "    except ValueError:\n",
    "        print(\"Input contains NaN, infinity or a value too large for dtype('float64')\")\n",
    "        num_val_errors += 1\n",
    "    \n",
    "np.save(SAVE_FILE, much_data, allow_pickle=True)\n",
    "print(\"Save successful!\")\n",
    "\n",
    "if num_key_errors:\n",
    "    print(\"KeyErrors: {}\".format(num_key_errors))\n",
    "if num_run_errors:\n",
    "    print(\"Runtime Errors: {}\".format(num_run_errors))\n",
    "if num_attribute_errors:\n",
    "    print(\"Attribute Errors: {}\".format(num_attribute_errors))"
   ]
  },
  {
   "cell_type": "code",
   "execution_count": null,
   "metadata": {
    "scrolled": true
   },
   "outputs": [],
   "source": [
    "print(much_data[0])"
   ]
  },
  {
   "cell_type": "code",
   "execution_count": null,
   "metadata": {
    "scrolled": true
   },
   "outputs": [],
   "source": [
    "np.shape(much_data[0][0])"
   ]
  },
  {
   "cell_type": "code",
   "execution_count": null,
   "metadata": {},
   "outputs": [],
   "source": [
    "# much_data[529][2]"
   ]
  },
  {
   "cell_type": "code",
   "execution_count": null,
   "metadata": {},
   "outputs": [],
   "source": [
    "images = np.load(SAVE_FILE, allow_pickle=True)\n",
    "images.shape"
   ]
  },
  {
   "cell_type": "code",
   "execution_count": null,
   "metadata": {
    "scrolled": true
   },
   "outputs": [],
   "source": [
    "print(images)"
   ]
  },
  {
   "cell_type": "code",
   "execution_count": null,
   "metadata": {},
   "outputs": [],
   "source": [
    "plt.imshow(images[0][0], cmap='gray')"
   ]
  },
  {
   "cell_type": "code",
   "execution_count": null,
   "metadata": {},
   "outputs": [],
   "source": []
  },
  {
   "cell_type": "code",
   "execution_count": null,
   "metadata": {},
   "outputs": [],
   "source": []
  }
 ],
 "metadata": {
  "kernelspec": {
   "display_name": "Python 3",
   "language": "python",
   "name": "python3"
  },
  "language_info": {
   "codemirror_mode": {
    "name": "ipython",
    "version": 3
   },
   "file_extension": ".py",
   "mimetype": "text/x-python",
   "name": "python",
   "nbconvert_exporter": "python",
   "pygments_lexer": "ipython3",
   "version": "3.8.3"
  }
 },
 "nbformat": 4,
 "nbformat_minor": 2
}
