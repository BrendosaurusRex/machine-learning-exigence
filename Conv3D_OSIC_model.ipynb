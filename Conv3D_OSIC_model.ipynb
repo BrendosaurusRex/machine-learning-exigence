{
 "cells": [
  {
   "cell_type": "code",
   "execution_count": 5,
   "metadata": {},
   "outputs": [],
   "source": [
    "import tensorflow as tf\n",
    "import keras\n",
    "import numpy as np\n",
    "import matplotlib as plt\n",
    "\n",
    "IMG_SIZE = 70\n",
    "NUM_SLICES = 40\n",
    "LOAD_FILE = \"{}data-{}x{}x{}.npy\".format(\"train\", IMG_SIZE, IMG_SIZE, NUM_SLICES)"
   ]
  },
  {
   "cell_type": "code",
   "execution_count": 6,
   "metadata": {},
   "outputs": [
    {
     "data": {
      "text/plain": [
       "(174, 40, 70, 70, 1)"
      ]
     },
     "execution_count": 6,
     "metadata": {},
     "output_type": "execute_result"
    }
   ],
   "source": [
    "#load training data into model\n",
    "train_data = np.load(LOAD_FILE, allow_pickle=True)\n",
    "\n",
    "#parse training data\n",
    "x_train = []\n",
    "y_train = []\n",
    "b = []\n",
    "for n in range(len(train_data)):\n",
    "    x_train.append(train_data[n, 0])\n",
    "    y_train.append(train_data[n, 1])\n",
    "    b.append(train_data[n, 2])\n",
    "X = np.array(x_train)\n",
    "Y = np.array(y_train)\n",
    "X = np.expand_dims(X, axis=-1)\n",
    "X.shape"
   ]
  },
  {
   "cell_type": "code",
   "execution_count": 7,
   "metadata": {},
   "outputs": [],
   "source": [
    "LeakyReLU = tf.keras.layers.LeakyReLU(alpha=0.1)\n",
    "\n",
    "#create model\n",
    "model = tf.keras.Sequential()\n",
    "\n",
    "#input layer\n",
    "model.add(tf.keras.layers.Conv3D(filters=3, \n",
    "                                 kernel_size=1, \n",
    "                                 input_shape= X.shape[1:],\n",
    "                                 data_format=\"channels_last\", \n",
    "                                 activation=LeakyReLU))\n",
    "\n",
    "#hidden layers\n",
    "model.add(tf.keras.layers.Conv3D(3, 1, activation=LeakyReLU))\n",
    "model.add(tf.keras.layers.Conv3D(3, 1, activation=LeakyReLU))\n",
    "model.add(tf.keras.layers.Flatten())\n",
    "\n",
    "#output layer\n",
    "model.add(tf.keras.layers.Dense(1, activation=LeakyReLU))\n",
    "\n",
    "#compile model with optimizer, loss, and metrics\n",
    "model.compile(optimizer='adam',\n",
    "              loss='mean_absolute_error',\n",
    "              metrics=['accuracy'])"
   ]
  },
  {
   "cell_type": "code",
   "execution_count": 8,
   "metadata": {
    "scrolled": true
   },
   "outputs": [
    {
     "name": "stdout",
     "output_type": "stream",
     "text": [
      "Epoch 1/5\n",
      "6/6 [==============================] - 9s 1s/step - loss: 4.8673 - accuracy: 0.0000e+00\n",
      "Epoch 2/5\n",
      "6/6 [==============================] - 9s 1s/step - loss: 4.5043 - accuracy: 0.0000e+00\n",
      "Epoch 3/5\n",
      "6/6 [==============================] - 8s 1s/step - loss: 4.3656 - accuracy: 0.0000e+00\n",
      "Epoch 4/5\n",
      "6/6 [==============================] - 8s 1s/step - loss: 4.3368 - accuracy: 0.0000e+00\n",
      "Epoch 5/5\n",
      "6/6 [==============================] - 8s 1s/step - loss: 4.2892 - accuracy: 0.0000e+00\n"
     ]
    },
    {
     "data": {
      "text/plain": [
       "<tensorflow.python.keras.callbacks.History at 0x1a8a7ba45e0>"
      ]
     },
     "execution_count": 8,
     "metadata": {},
     "output_type": "execute_result"
    }
   ],
   "source": [
    "#train model\n",
    "model.fit(X, Y, epochs=5, shuffle=True)"
   ]
  },
  {
   "cell_type": "code",
   "execution_count": null,
   "metadata": {},
   "outputs": [],
   "source": []
  }
 ],
 "metadata": {
  "kernelspec": {
   "display_name": "Python 3",
   "language": "python",
   "name": "python3"
  },
  "language_info": {
   "codemirror_mode": {
    "name": "ipython",
    "version": 3
   },
   "file_extension": ".py",
   "mimetype": "text/x-python",
   "name": "python",
   "nbconvert_exporter": "python",
   "pygments_lexer": "ipython3",
   "version": "3.8.3"
  }
 },
 "nbformat": 4,
 "nbformat_minor": 4
}
