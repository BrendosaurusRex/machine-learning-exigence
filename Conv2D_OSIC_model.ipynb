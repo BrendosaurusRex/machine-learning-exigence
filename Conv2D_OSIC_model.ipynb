{
 "cells": [
  {
   "cell_type": "markdown",
   "metadata": {},
   "source": [
    "# Conv2D Model\n",
    "## Alec & Brendon Barrios   |   08/17/2020"
   ]
  },
  {
   "cell_type": "code",
   "execution_count": 47,
   "metadata": {},
   "outputs": [],
   "source": [
    "import tensorflow as tf\n",
    "import matplotlib.pyplot as plt\n",
    "import numpy as np\n",
    "\n",
    "\n",
    "#access saved data file\n",
    "IMG_SIZE = 70\n",
    "LOAD_FILE = \"{}data-{}x{}.npy\".format(\"small-train\", IMG_SIZE, IMG_SIZE)\n",
    "\n",
    "load_data = np.load(LOAD_FILE, allow_pickle=True)\n",
    "\n",
    "#parse data for neural net input\n",
    "X_train = []\n",
    "for i in range(len(load_data)):     # cannot be inline to preserve ndarray type\n",
    "    X_train.append(load_data[i][0])\n",
    "X_train = np.asarray(X_train)\n",
    "\n",
    "Y_train = []\n",
    "for i in range(len(load_data)):\n",
    "    Y_train.append(load_data[i][1])\n",
    "Y_train = np.asarray(Y_train)\n",
    "\n",
    "Intercepts = []\n",
    "for i in range(len(load_data)):\n",
    "    Intercepts.append(load_data[i][2])"
   ]
  },
  {
   "cell_type": "code",
   "execution_count": 49,
   "metadata": {
    "scrolled": false
   },
   "outputs": [
    {
     "name": "stdout",
     "output_type": "stream",
     "text": [
      "Model: \"OSIC_PF_model\"\n",
      "_________________________________________________________________\n",
      "Layer (type)                 Output Shape              Param #   \n",
      "=================================================================\n",
      "input_10 (InputLayer)        [(None, 70, 70, 1)]       0         \n",
      "_________________________________________________________________\n",
      "conv2d_15 (Conv2D)           (None, 67, 67, 20)        340       \n",
      "_________________________________________________________________\n",
      "conv2d_16 (Conv2D)           (None, 64, 64, 40)        12840     \n",
      "_________________________________________________________________\n",
      "conv2d_17 (Conv2D)           (None, 61, 61, 80)        51280     \n",
      "_________________________________________________________________\n",
      "flatten_5 (Flatten)          (None, 297680)            0         \n",
      "_________________________________________________________________\n",
      "dense_5 (Dense)              (None, 1)                 297681    \n",
      "=================================================================\n",
      "Total params: 362,141\n",
      "Trainable params: 362,141\n",
      "Non-trainable params: 0\n",
      "_________________________________________________________________\n"
     ]
    }
   ],
   "source": [
    "from tensorflow import keras as K\n",
    "from tensorflow.keras import layers\n",
    "\n",
    "#img input\n",
    "img_input = K.Input(shape=(IMG_SIZE,IMG_SIZE,1))\n",
    "\n",
    "#input layer\n",
    "conv2D = layers.Conv2D(20, 4, activation='relu')\n",
    "x = conv2D(img_input)\n",
    "\n",
    "#hidden layers\n",
    "x = layers.Conv2D(40, 4, activation='relu')(x)\n",
    "# MaxPooling\n",
    "x = layers.Conv2D(80, 4, activation='relu')(x)\n",
    "# MaxPooling\n",
    "x = layers.Flatten()(x)\n",
    "\n",
    "#output layer\n",
    "output_layer = layers.Dense(1)(x)\n",
    "\n",
    "#compile model (optimizers, loss, metrics)\n",
    "model = K.Model(inputs=img_input, outputs=output_layer, name=\"OSIC_PF_model\")\n",
    "model.summary()\n",
    "\n",
    "model.compile(\n",
    "    loss=K.losses.MeanSquaredError(),\n",
    "    optimizer=K.optimizers.Adam(),\n",
    "    metrics=[\"accuracy\"])\n"
   ]
  },
  {
   "cell_type": "code",
   "execution_count": null,
   "metadata": {},
   "outputs": [
    {
     "name": "stdout",
     "output_type": "stream",
     "text": [
      "Epoch 1/3\n",
      " 1/23 [>.............................] - ETA: 0s - loss: 75.4500 - accuracy: 0.0000e+00WARNING:tensorflow:Callbacks method `on_train_batch_end` is slow compared to the batch time (batch time: 0.0120s vs `on_train_batch_end` time: 0.0210s). Check your callbacks.\n",
      "23/23 [==============================] - 1s 34ms/step - loss: 24.9835 - accuracy: 0.0000e+00\n",
      "Epoch 2/3\n",
      "23/23 [==============================] - 1s 34ms/step - loss: 8.9810 - accuracy: 0.0000e+00\n",
      "Epoch 3/3\n",
      "11/23 [=============>................] - ETA: 0s - loss: 8.3481 - accuracy: 0.0000e+00"
     ]
    }
   ],
   "source": [
    "#fit model\n",
    "history = model.fit(X_train, Y_train, batch_size=64, epochs=3)"
   ]
  },
  {
   "cell_type": "code",
   "execution_count": null,
   "metadata": {},
   "outputs": [],
   "source": [
    "#post-processing: convert activation to -slope\n",
    "\n",
    "#post-p: use -slope to predict FVC at x week\n",
    "\n",
    "#get money"
   ]
  },
  {
   "cell_type": "code",
   "execution_count": null,
   "metadata": {},
   "outputs": [],
   "source": []
  },
  {
   "cell_type": "code",
   "execution_count": null,
   "metadata": {},
   "outputs": [],
   "source": []
  },
  {
   "cell_type": "code",
   "execution_count": null,
   "metadata": {},
   "outputs": [],
   "source": []
  },
  {
   "cell_type": "code",
   "execution_count": null,
   "metadata": {},
   "outputs": [],
   "source": []
  },
  {
   "cell_type": "code",
   "execution_count": null,
   "metadata": {},
   "outputs": [],
   "source": []
  }
 ],
 "metadata": {
  "kernelspec": {
   "display_name": "Python 3",
   "language": "python",
   "name": "python3"
  },
  "language_info": {
   "codemirror_mode": {
    "name": "ipython",
    "version": 3
   },
   "file_extension": ".py",
   "mimetype": "text/x-python",
   "name": "python",
   "nbconvert_exporter": "python",
   "pygments_lexer": "ipython3",
   "version": "3.8.3"
  }
 },
 "nbformat": 4,
 "nbformat_minor": 2
}
