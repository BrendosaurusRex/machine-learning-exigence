{
 "cells": [
  {
   "cell_type": "markdown",
   "metadata": {},
   "source": [
    "# Data Preprocessing\n",
    "### Brendon Barrios     |     08/08/2020\n",
    "Using OSIC Pulmonary Fibrosis Progression dataset from Kaggle.com\n",
    "\n",
    "<https://www.kaggle.com/c/osic-pulmonary-fibrosis-progression/overview>"
   ]
  },
  {
   "cell_type": "markdown",
   "metadata": {},
   "source": [
    "## Sentdex Preprocessing Tutorial:\n",
    "Adapted from: <https://www.kaggle.com/sentdex/first-pass-through-data-w-3d-convnet>"
   ]
  },
  {
   "cell_type": "code",
   "execution_count": 1,
   "metadata": {},
   "outputs": [
    {
     "data": {
      "text/html": [
       "<div>\n",
       "<style scoped>\n",
       "    .dataframe tbody tr th:only-of-type {\n",
       "        vertical-align: middle;\n",
       "    }\n",
       "\n",
       "    .dataframe tbody tr th {\n",
       "        vertical-align: top;\n",
       "    }\n",
       "\n",
       "    .dataframe thead th {\n",
       "        text-align: right;\n",
       "    }\n",
       "</style>\n",
       "<table border=\"1\" class=\"dataframe\">\n",
       "  <thead>\n",
       "    <tr style=\"text-align: right;\">\n",
       "      <th></th>\n",
       "      <th>Weeks</th>\n",
       "      <th>FVC</th>\n",
       "      <th>Percent</th>\n",
       "      <th>Age</th>\n",
       "      <th>Sex</th>\n",
       "      <th>SmokingStatus</th>\n",
       "    </tr>\n",
       "    <tr>\n",
       "      <th>Patient</th>\n",
       "      <th></th>\n",
       "      <th></th>\n",
       "      <th></th>\n",
       "      <th></th>\n",
       "      <th></th>\n",
       "      <th></th>\n",
       "    </tr>\n",
       "  </thead>\n",
       "  <tbody>\n",
       "    <tr>\n",
       "      <th>ID00007637202177411956430</th>\n",
       "      <td>-4</td>\n",
       "      <td>2315</td>\n",
       "      <td>58.253649</td>\n",
       "      <td>79</td>\n",
       "      <td>Male</td>\n",
       "      <td>Ex-smoker</td>\n",
       "    </tr>\n",
       "    <tr>\n",
       "      <th>ID00007637202177411956430</th>\n",
       "      <td>5</td>\n",
       "      <td>2214</td>\n",
       "      <td>55.712129</td>\n",
       "      <td>79</td>\n",
       "      <td>Male</td>\n",
       "      <td>Ex-smoker</td>\n",
       "    </tr>\n",
       "    <tr>\n",
       "      <th>ID00007637202177411956430</th>\n",
       "      <td>7</td>\n",
       "      <td>2061</td>\n",
       "      <td>51.862104</td>\n",
       "      <td>79</td>\n",
       "      <td>Male</td>\n",
       "      <td>Ex-smoker</td>\n",
       "    </tr>\n",
       "    <tr>\n",
       "      <th>ID00007637202177411956430</th>\n",
       "      <td>9</td>\n",
       "      <td>2144</td>\n",
       "      <td>53.950679</td>\n",
       "      <td>79</td>\n",
       "      <td>Male</td>\n",
       "      <td>Ex-smoker</td>\n",
       "    </tr>\n",
       "    <tr>\n",
       "      <th>ID00007637202177411956430</th>\n",
       "      <td>11</td>\n",
       "      <td>2069</td>\n",
       "      <td>52.063412</td>\n",
       "      <td>79</td>\n",
       "      <td>Male</td>\n",
       "      <td>Ex-smoker</td>\n",
       "    </tr>\n",
       "    <tr>\n",
       "      <th>ID00007637202177411956430</th>\n",
       "      <td>17</td>\n",
       "      <td>2101</td>\n",
       "      <td>52.868646</td>\n",
       "      <td>79</td>\n",
       "      <td>Male</td>\n",
       "      <td>Ex-smoker</td>\n",
       "    </tr>\n",
       "    <tr>\n",
       "      <th>ID00007637202177411956430</th>\n",
       "      <td>29</td>\n",
       "      <td>2000</td>\n",
       "      <td>50.327126</td>\n",
       "      <td>79</td>\n",
       "      <td>Male</td>\n",
       "      <td>Ex-smoker</td>\n",
       "    </tr>\n",
       "    <tr>\n",
       "      <th>ID00007637202177411956430</th>\n",
       "      <td>41</td>\n",
       "      <td>2064</td>\n",
       "      <td>51.937594</td>\n",
       "      <td>79</td>\n",
       "      <td>Male</td>\n",
       "      <td>Ex-smoker</td>\n",
       "    </tr>\n",
       "    <tr>\n",
       "      <th>ID00007637202177411956430</th>\n",
       "      <td>57</td>\n",
       "      <td>2057</td>\n",
       "      <td>51.761449</td>\n",
       "      <td>79</td>\n",
       "      <td>Male</td>\n",
       "      <td>Ex-smoker</td>\n",
       "    </tr>\n",
       "    <tr>\n",
       "      <th>ID00009637202177434476278</th>\n",
       "      <td>8</td>\n",
       "      <td>3660</td>\n",
       "      <td>85.282878</td>\n",
       "      <td>69</td>\n",
       "      <td>Male</td>\n",
       "      <td>Ex-smoker</td>\n",
       "    </tr>\n",
       "  </tbody>\n",
       "</table>\n",
       "</div>"
      ],
      "text/plain": [
       "                           Weeks   FVC    Percent  Age   Sex SmokingStatus\n",
       "Patient                                                                   \n",
       "ID00007637202177411956430     -4  2315  58.253649   79  Male     Ex-smoker\n",
       "ID00007637202177411956430      5  2214  55.712129   79  Male     Ex-smoker\n",
       "ID00007637202177411956430      7  2061  51.862104   79  Male     Ex-smoker\n",
       "ID00007637202177411956430      9  2144  53.950679   79  Male     Ex-smoker\n",
       "ID00007637202177411956430     11  2069  52.063412   79  Male     Ex-smoker\n",
       "ID00007637202177411956430     17  2101  52.868646   79  Male     Ex-smoker\n",
       "ID00007637202177411956430     29  2000  50.327126   79  Male     Ex-smoker\n",
       "ID00007637202177411956430     41  2064  51.937594   79  Male     Ex-smoker\n",
       "ID00007637202177411956430     57  2057  51.761449   79  Male     Ex-smoker\n",
       "ID00009637202177434476278      8  3660  85.282878   69  Male     Ex-smoker"
      ]
     },
     "execution_count": 1,
     "metadata": {},
     "output_type": "execute_result"
    }
   ],
   "source": [
    "import os\n",
    "import pydicom\n",
    "import pandas as pd\n",
    "\n",
    "DATA_DIR = \"train_dl/\"\n",
    "patients = os.listdir(DATA_DIR)\n",
    "\n",
    "labels_df = pd.read_csv(\"train_dl.csv\", index_col=0)\n",
    "\n",
    "labels_df.head(10)"
   ]
  },
  {
   "cell_type": "code",
   "execution_count": 29,
   "metadata": {
    "scrolled": true
   },
   "outputs": [],
   "source": [
    "import matplotlib.pyplot as plt\n",
    "import cv2\n",
    "import numpy as np\n",
    "import math\n",
    "\n",
    "IMAGE_PX_SIZE = 100\n",
    "NUM_SLICES = 30\n",
    "SAVE_FILE = \"traindata-{}x{}x{}.npy\".format(IMAGE_PX_SIZE, IMAGE_PX_SIZE, NUM_SLICES)\n",
    "\n",
    "def chunks(l, n):\n",
    "    # Credit: Ned Batchelder\n",
    "    # Link: http://stackoverflow.com/questions/312443/how-do-you-split-a-list-into-evenly-sized-chunks\n",
    "    \"\"\"Yield successive n-sized chunks from l.\"\"\"\n",
    "    for i in range(0, len(l), n):\n",
    "        yield l[i:i + n]\n",
    "\n",
    "def mean(l):\n",
    "    return sum(l)/len(l)\n",
    "\n",
    "def normalize(a):\n",
    "    norm = np.linalg.norm(a)\n",
    "    if norm == 0:\n",
    "        return a\n",
    "    return a / norm\n",
    "\n",
    "def process_data(patient, labels_df, img_px_size=50, num_slices=20, visualize=False):\n",
    "    \n",
    "    path = os.path.join(DATA_DIR, patient)\n",
    "    slices = [pydicom.read_file(os.path.join(path, file)) for file in os.listdir(path)]\n",
    "    slices.sort(key = lambda x: int(x.ImagePositionPatient[2])) # sorts dicom files by Image Position\n",
    "    print(slices[0])\n",
    "\n",
    "    px_data = pydicom.pixel_data_handlers.pillow_handler.get_pixeldata(slices[each_slice] for each_slice in slices)\n",
    "    print(px_data)\n",
    "    \n",
    "    new_slices = []\n",
    "    slices = [cv2.resize(normalize(np.array(each_slice.pixel_array)), \n",
    "                         (IMAGE_PX_SIZE, IMAGE_PX_SIZE)) for each_slice in slices]\n",
    "    \n",
    "    chunk_sizes = math.ceil(len(slices) / NUM_SLICES)\n",
    "    \n",
    "    for slice_chunk in chunks(slices, chunk_sizes):\n",
    "        slice_chunk = list(map(mean, zip(*slice_chunk)))\n",
    "        new_slices.append(slice_chunk)\n",
    "    \n",
    "    diff = NUM_SLICES - len(new_slices)\n",
    "    if diff:\n",
    "        for n in range(diff):\n",
    "            new_slices.append(new_slices[-1])\n",
    "        \n",
    "    if len(new_slices) == NUM_SLICES + 2:\n",
    "        new_val = list(map(mean, zip(*[new_slices[NUM_SLICES - 1], new_slices[NUM_SLICES]])))\n",
    "        del new_slices[NUM_SLICES]\n",
    "        new_slices[NUM_SLICES - 1] = new_val\n",
    "        \n",
    "    if len(new_slices) == NUM_SLICES + 1:\n",
    "        new_val = list(map(mean, zip(*[new_slices[NUM_SLICES - 1], new_slices[NUM_SLICES]])))\n",
    "        del new_slices[NUM_SLICES]\n",
    "        new_slices[NUM_SLICES - 1] = new_val\n",
    "        \n",
    "    print(len(new_slices))\n",
    "    \n",
    "    if visualize:\n",
    "        fig = plt.figure()\n",
    "        for num, each_slice in enumerate(new_slices):\n",
    "            y = fig.add_subplot(5, 6, num+1)\n",
    "            y.imshow(each_slice, cmap = \"gray\")\n",
    "        plt.show\n",
    "        \n",
    "    '''\n",
    "    Obtain FVC Score as label\n",
    "    '''\n",
    "    label = labels_df.at[patient, \"FVC\"]\n",
    "    print(patient)\n",
    "        \n",
    "    return np.array(new_slices), label\n"
   ]
  },
  {
   "cell_type": "code",
   "execution_count": 30,
   "metadata": {},
   "outputs": [
    {
     "name": "stdout",
     "output_type": "stream",
     "text": [
      "['ID00007637202177411956430', 'ID00009637202177434476278', 'ID00010637202177584971671', 'ID00011637202177653955184', 'ID00012637202177665765362']\n"
     ]
    }
   ],
   "source": [
    "print(patients[:5])"
   ]
  },
  {
   "cell_type": "code",
   "execution_count": 31,
   "metadata": {
    "scrolled": false
   },
   "outputs": [
    {
     "name": "stdout",
     "output_type": "stream",
     "text": [
      "Dataset.file_meta -------------------------------\n",
      "(0002, 0000) File Meta Information Group Length  UL: 200\n",
      "(0002, 0001) File Meta Information Version       OB: b'\\x00\\x01'\n",
      "(0002, 0002) Media Storage SOP Class UID         UI: CT Image Storage\n",
      "(0002, 0003) Media Storage SOP Instance UID      UI: 2.25.95516132172461492040664114239048418896\n",
      "(0002, 0010) Transfer Syntax UID                 UI: Explicit VR Little Endian\n",
      "(0002, 0012) Implementation Class UID            UI: 1.2.276.0.7230010.3.0.3.6.1\n",
      "(0002, 0013) Implementation Version Name         SH: 'OSIRIX_361'\n",
      "(0002, 0016) Source Application Entity Title     AE: 'ANONYMOUS'\n",
      "-------------------------------------------------\n",
      "(0008, 0005) Specific Character Set              CS: 'ISO_IR 100'\n",
      "(0008, 0008) Image Type                          CS: ['ORIGINAL', 'PRIMARY', 'AXIAL']\n",
      "(0008, 0018) SOP Instance UID                    UI: 2.25.95516132172461492040664114239048418896\n",
      "(0008, 0060) Modality                            CS: 'CT'\n",
      "(0008, 0070) Manufacturer                        LO: 'GE MEDICAL SYSTEMS'\n",
      "(0008, 1090) Manufacturer's Model Name           LO: 'LightSpeed VCT'\n",
      "(0010, 0010) Patient's Name                      PN: 'ID00007637202177411956430'\n",
      "(0010, 0020) Patient ID                          LO: 'ID00007637202177411956430'\n",
      "(0010, 0040) Patient's Sex                       CS: ''\n",
      "(0012, 0063) De-identification Method            LO: 'Table;'\n",
      "(0018, 0015) Body Part Examined                  CS: 'Chest'\n",
      "(0018, 0050) Slice Thickness                     DS: \"1.25\"\n",
      "(0018, 0060) KVP                                 DS: \"120.0\"\n",
      "(0018, 1110) Distance Source to Detector         DS: \"949.075012\"\n",
      "(0018, 1111) Distance Source to Patient          DS: \"541.0\"\n",
      "(0018, 1120) Gantry/Detector Tilt                DS: \"0.0\"\n",
      "(0018, 1130) Table Height                        DS: \"130.0\"\n",
      "(0018, 1140) Rotation Direction                  CS: 'CW'\n",
      "(0018, 1151) X-Ray Tube Current                  IS: \"79\"\n",
      "(0018, 1170) Generator Power                     IS: \"9600\"\n",
      "(0018, 1190) Focal Spot(s)                       DS: \"0.7\"\n",
      "(0018, 1210) Convolution Kernel                  SH: 'BONE'\n",
      "(0018, 5100) Patient Position                    CS: 'FFS'\n",
      "(0020, 000d) Study Instance UID                  UI: 2.25.80896671862726099888461805953012988790\n",
      "(0020, 000e) Series Instance UID                 UI: 2.25.51769600465874599901723496946193454321\n",
      "(0020, 0010) Study ID                            SH: ''\n",
      "(0020, 0013) Instance Number                     IS: \"30\"\n",
      "(0020, 0032) Image Position (Patient)            DS: [-158.700, -153.500, -359.750]\n",
      "(0020, 0037) Image Orientation (Patient)         DS: [1.000000, 0.000000, 0.000000, 0.000000, 1.000000, 0.000000]\n",
      "(0020, 0052) Frame of Reference UID              UI: 2.25.64058019325784235774105718339367403144\n",
      "(0020, 1040) Position Reference Indicator        LO: 'SN'\n",
      "(0020, 1041) Slice Location                      DS: \"-359.75\"\n",
      "(0028, 0002) Samples per Pixel                   US: 1\n",
      "(0028, 0004) Photometric Interpretation          CS: 'MONOCHROME2'\n",
      "(0028, 0010) Rows                                US: 512\n",
      "(0028, 0011) Columns                             US: 512\n",
      "(0028, 0030) Pixel Spacing                       DS: [0.652344, 0.652344]\n",
      "(0028, 0100) Bits Allocated                      US: 16\n",
      "(0028, 0101) Bits Stored                         US: 16\n",
      "(0028, 0102) High Bit                            US: 15\n",
      "(0028, 0103) Pixel Representation                US: 1\n",
      "(0028, 0120) Pixel Padding Value                 SS: -2000\n",
      "(0028, 1050) Window Center                       DS: \"-500.0\"\n",
      "(0028, 1051) Window Width                        DS: \"-1500.0\"\n",
      "(0028, 1052) Rescale Intercept                   DS: \"-1024.0\"\n",
      "(0028, 1053) Rescale Slope                       DS: \"1.0\"\n",
      "(0028, 1054) Rescale Type                        LO: 'HU'\n",
      "(7fe0, 0010) Pixel Data                          OW: Array of 524288 elements\n"
     ]
    },
    {
     "ename": "AttributeError",
     "evalue": "'generator' object has no attribute 'file_meta'",
     "output_type": "error",
     "traceback": [
      "\u001b[1;31m---------------------------------------------------------------------------\u001b[0m",
      "\u001b[1;31mAttributeError\u001b[0m                            Traceback (most recent call last)",
      "\u001b[1;32m<ipython-input-31-3a74d32aabc5>\u001b[0m in \u001b[0;36m<module>\u001b[1;34m\u001b[0m\n\u001b[0;32m     10\u001b[0m \u001b[1;33m\u001b[0m\u001b[0m\n\u001b[0;32m     11\u001b[0m     \u001b[1;32mtry\u001b[0m\u001b[1;33m:\u001b[0m\u001b[1;33m\u001b[0m\u001b[1;33m\u001b[0m\u001b[0m\n\u001b[1;32m---> 12\u001b[1;33m         img_data, label = process_data(patient, \n\u001b[0m\u001b[0;32m     13\u001b[0m                                        \u001b[0mlabels_df\u001b[0m\u001b[1;33m,\u001b[0m\u001b[1;33m\u001b[0m\u001b[1;33m\u001b[0m\u001b[0m\n\u001b[0;32m     14\u001b[0m                                        \u001b[0mimg_px_size\u001b[0m\u001b[1;33m=\u001b[0m\u001b[0mIMAGE_PX_SIZE\u001b[0m\u001b[1;33m,\u001b[0m\u001b[1;33m\u001b[0m\u001b[1;33m\u001b[0m\u001b[0m\n",
      "\u001b[1;32m<ipython-input-29-e3dcbd833dbb>\u001b[0m in \u001b[0;36mprocess_data\u001b[1;34m(patient, labels_df, img_px_size, num_slices, visualize)\u001b[0m\n\u001b[0;32m     31\u001b[0m     \u001b[0mprint\u001b[0m\u001b[1;33m(\u001b[0m\u001b[0mslices\u001b[0m\u001b[1;33m[\u001b[0m\u001b[1;36m0\u001b[0m\u001b[1;33m]\u001b[0m\u001b[1;33m)\u001b[0m\u001b[1;33m\u001b[0m\u001b[1;33m\u001b[0m\u001b[0m\n\u001b[0;32m     32\u001b[0m \u001b[1;33m\u001b[0m\u001b[0m\n\u001b[1;32m---> 33\u001b[1;33m     \u001b[0mpx_data\u001b[0m \u001b[1;33m=\u001b[0m \u001b[0mpydicom\u001b[0m\u001b[1;33m.\u001b[0m\u001b[0mpixel_data_handlers\u001b[0m\u001b[1;33m.\u001b[0m\u001b[0mpillow_handler\u001b[0m\u001b[1;33m.\u001b[0m\u001b[0mget_pixeldata\u001b[0m\u001b[1;33m(\u001b[0m\u001b[0mslices\u001b[0m\u001b[1;33m[\u001b[0m\u001b[0meach_slice\u001b[0m\u001b[1;33m]\u001b[0m \u001b[1;32mfor\u001b[0m \u001b[0meach_slice\u001b[0m \u001b[1;32min\u001b[0m \u001b[0mslices\u001b[0m\u001b[1;33m)\u001b[0m\u001b[1;33m\u001b[0m\u001b[1;33m\u001b[0m\u001b[0m\n\u001b[0m\u001b[0;32m     34\u001b[0m     \u001b[0mprint\u001b[0m\u001b[1;33m(\u001b[0m\u001b[0mpx_data\u001b[0m\u001b[1;33m)\u001b[0m\u001b[1;33m\u001b[0m\u001b[1;33m\u001b[0m\u001b[0m\n\u001b[0;32m     35\u001b[0m \u001b[1;33m\u001b[0m\u001b[0m\n",
      "\u001b[1;32mc:\\users\\rocke\\appdata\\local\\programs\\python\\python38\\lib\\site-packages\\pydicom\\pixel_data_handlers\\pillow_handler.py\u001b[0m in \u001b[0;36mget_pixeldata\u001b[1;34m(ds)\u001b[0m\n\u001b[0;32m    113\u001b[0m     logger.debug(\"Trying to use Pillow to read pixel array \"\n\u001b[0;32m    114\u001b[0m                  \"(has pillow = %s)\", HAVE_PIL)\n\u001b[1;32m--> 115\u001b[1;33m     \u001b[0mtransfer_syntax\u001b[0m \u001b[1;33m=\u001b[0m \u001b[0mds\u001b[0m\u001b[1;33m.\u001b[0m\u001b[0mfile_meta\u001b[0m\u001b[1;33m.\u001b[0m\u001b[0mTransferSyntaxUID\u001b[0m\u001b[1;33m\u001b[0m\u001b[1;33m\u001b[0m\u001b[0m\n\u001b[0m\u001b[0;32m    116\u001b[0m     \u001b[0mlogger\u001b[0m\u001b[1;33m.\u001b[0m\u001b[0mdebug\u001b[0m\u001b[1;33m(\u001b[0m\u001b[1;34m\"Transfer Syntax UID: '{}'\"\u001b[0m\u001b[1;33m.\u001b[0m\u001b[0mformat\u001b[0m\u001b[1;33m(\u001b[0m\u001b[0mtransfer_syntax\u001b[0m\u001b[1;33m)\u001b[0m\u001b[1;33m)\u001b[0m\u001b[1;33m\u001b[0m\u001b[1;33m\u001b[0m\u001b[0m\n\u001b[0;32m    117\u001b[0m \u001b[1;33m\u001b[0m\u001b[0m\n",
      "\u001b[1;31mAttributeError\u001b[0m: 'generator' object has no attribute 'file_meta'"
     ]
    }
   ],
   "source": [
    "\"\"\"\n",
    "Try Preprocessing Data \n",
    "If memory fails: try to process \"online\", meaning call process_data() while network is training to feed data into network\n",
    "\"\"\"\n",
    "much_data = []\n",
    "\n",
    "for num, patient in enumerate(patients[:5]):\n",
    "    if num%100 == 0 and num != 0:\n",
    "        print(num)\n",
    "        \n",
    "    try:\n",
    "        img_data, label = process_data(patient, \n",
    "                                       labels_df, \n",
    "                                       img_px_size=IMAGE_PX_SIZE, \n",
    "                                       num_slices=NUM_SLICES, \n",
    "                                       visualize=True)\n",
    "        \n",
    "        much_data.append([img_data, label])\n",
    "        \n",
    "    except KeyError as e:\n",
    "        print(\"Unlabeled data!\")\n",
    "        \n",
    "np.save(SAVE_FILE, much_data, allow_pickle=True)\n",
    "print(\"Save successful!\")"
   ]
  },
  {
   "cell_type": "code",
   "execution_count": 16,
   "metadata": {},
   "outputs": [
    {
     "name": "stdout",
     "output_type": "stream",
     "text": [
      "262144\n"
     ]
    },
    {
     "data": {
      "text/plain": [
       "524288"
      ]
     },
     "execution_count": 16,
     "metadata": {},
     "output_type": "execute_result"
    }
   ],
   "source": [
    "# Checking RowsxCols; \"Monochrome2\" metadata might mean 2xRowsxCols\n",
    "print(512*512)\n",
    "2*512**2 # 2 x 512^2"
   ]
  },
  {
   "cell_type": "code",
   "execution_count": null,
   "metadata": {},
   "outputs": [],
   "source": [
    "\"\"\"\n",
    "Proof of Save/Load states:\n",
    "\"\"\"\n",
    "images = np.load(SAVE_FILE, allow_pickle=True)"
   ]
  },
  {
   "cell_type": "code",
   "execution_count": null,
   "metadata": {
    "scrolled": true
   },
   "outputs": [],
   "source": [
    "print(\"FVC: \", images[0,1][1])"
   ]
  },
  {
   "cell_type": "code",
   "execution_count": null,
   "metadata": {
    "scrolled": true
   },
   "outputs": [],
   "source": [
    "print(\"Normalized Image Data:\\n\", images[0,0][1])"
   ]
  },
  {
   "cell_type": "code",
   "execution_count": null,
   "metadata": {},
   "outputs": [],
   "source": []
  }
 ],
 "metadata": {
  "kernelspec": {
   "display_name": "Python 3",
   "language": "python",
   "name": "python3"
  },
  "language_info": {
   "codemirror_mode": {
    "name": "ipython",
    "version": 3
   },
   "file_extension": ".py",
   "mimetype": "text/x-python",
   "name": "python",
   "nbconvert_exporter": "python",
   "pygments_lexer": "ipython3",
   "version": "3.8.3"
  }
 },
 "nbformat": 4,
 "nbformat_minor": 2
}
