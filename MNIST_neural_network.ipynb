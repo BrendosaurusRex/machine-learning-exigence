{
 "cells": [
  {
   "cell_type": "markdown",
   "metadata": {},
   "source": [
    "First Neural Network"
   ]
  },
  {
   "cell_type": "code",
   "execution_count": 14,
   "metadata": {},
   "outputs": [
    {
     "name": "stdout",
     "output_type": "stream",
     "text": [
      "5\n"
     ]
    },
    {
     "data": {
      "image/png": "[encoded data removed]",
      "text/plain": [
       "<Figure size 432x288 with 1 Axes>"
      ]
     },
     "metadata": {
      "needs_background": "light"
     },
     "output_type": "display_data"
    }
   ],
   "source": [
    "import tensorflow as tf \n",
    "import matplotlib.pyplot as plt\n",
    "\n",
    "mnist = tf.keras.datasets.mnist #importing MNIST dataset into 'mnist' variable\n",
    "\n",
    "(x_train, y_train), (x_test, y_test) = mnist.load_data() #.load_data() is declaring the x_ and y_ variables \n",
    "                                                         #with the corresponding MNIST data\n",
    "\n",
    "plt.imshow(x_train[0]) #Display plot of specificed datum (image data only).\n",
    "print(y_train[0])      #Display MNIST data label."
   ]
  },
  {
   "cell_type": "code",
   "execution_count": 15,
   "metadata": {},
   "outputs": [
    {
     "name": "stdout",
     "output_type": "stream",
     "text": [
      "(60000, 28, 28)\n"
     ]
    }
   ],
   "source": [
    "print(x_train.shape)                                #shows how many dimensions the x_train array has\n",
    "x_train = tf.keras.utils.normalize(x_train, axis=1) #normalize 2nd dimension (axis=1) of the data\n",
    "x_test = tf.keras.utils.normalize(x_test, axis=1)   #normalize again only for y_train"
   ]
  },
  {
   "cell_type": "code",
   "execution_count": 16,
   "metadata": {},
   "outputs": [
    {
     "data": {
      "text/plain": [
       "<matplotlib.image.AxesImage at 0x7fc5301ce518>"
      ]
     },
     "execution_count": 16,
     "metadata": {},
     "output_type": "execute_result"
    },
    {
     "data": {
      "image/png": "[encoded data removed]",
      "text/plain": [
       "<Figure size 432x288 with 1 Axes>"
      ]
     },
     "metadata": {
      "needs_background": "light"
     },
     "output_type": "display_data"
    }
   ],
   "source": [
    "plt.imshow(x_train[0], cmap = plt.cm.binary) #turns plot grayscale"
   ]
  },
  {
   "cell_type": "code",
   "execution_count": 34,
   "metadata": {},
   "outputs": [],
   "source": [
    "model = tf.keras.models.Sequential() #initializing 'model' object with a .Sequential neural network\n",
    "                                     #.Sequential neural networks pass data (i.e. activation values of the neurons) \n",
    "                                     #through the NN's layers linearly.\n",
    "\n",
    "model.add(tf.keras.layers.Flatten()) #layers.Flatten() manipulates the 2D input data into a 1D array\n",
    "                                     #The input data changes with each linear movement through the layer \n",
    "                                     #(input layer has MNIST data, the 2nd layer receives the input layer's activation pattern as the input data, and so on).\n",
    "\n",
    "model.add(tf.keras.layers.Dense(256, activation=tf.nn.relu))  #.layers.Dense() is creating a 'densely-connected' hidden layer that is 128 neurons wide \n",
    "                                                              #and uses RELU to calculates the min threshold that a neuron must meet to have a non-zero activation value\n",
    "                                                              #densely-connected layers are hidden layers whose individual neuron's activation is \n",
    "                                                              #determined by the activation pattern of the entire previous layer\n",
    "\n",
    "model.add(tf.keras.layers.Dense(256, activation=tf.nn.relu)) #creating a 2nd hidden layer. \n",
    "                                                             #Note: 2+ hidden layers constitutes a 'deep neural network'\n",
    "\n",
    "model.add(tf.keras.layers.Dense(10, activation=tf.nn.softmax)) #creates the output layer. \n",
    "                                                               #The .softmax only allows the NN to 'choose' one output neuron as the 'answer'\n",
    "\n",
    "model.compile(optimizer = 'adam', \n",
    "             loss = 'sparse_categorical_crossentropy',\n",
    "             metrics = ['accuracy']) #We are selecting one cost function among many available. \n",
    "                                     #The 'optimizer', 'loss', and 'metrics' can be interchanged with options besides 'adam', 'categorical_crossentropy', and 'accuracy'. \n",
    "                                     #Different combinations results in a different cost function\n",
    "                                     #We could experiment with different cost functions to see \n",
    "                                     #which function makes the NN perform better. Look on Keras.io/api"
   ]
  },
  {
   "cell_type": "code",
   "execution_count": 35,
   "metadata": {},
   "outputs": [
    {
     "name": "stdout",
     "output_type": "stream",
     "text": [
      "Epoch 1/3\n",
      "1875/1875 [==============================] - 2s 1ms/step - loss: 0.2214 - accuracy: 0.9348\n",
      "Epoch 2/3\n",
      "1875/1875 [==============================] - 2s 1ms/step - loss: 0.0879 - accuracy: 0.9726\n",
      "Epoch 3/3\n",
      "1875/1875 [==============================] - 2s 1ms/step - loss: 0.0571 - accuracy: 0.9816\n"
     ]
    },
    {
     "data": {
      "text/plain": [
       "<tensorflow.python.keras.callbacks.History at 0x7fc527988b38>"
      ]
     },
     "execution_count": 35,
     "metadata": {},
     "output_type": "execute_result"
    }
   ],
   "source": [
    "model.fit(x_train, y_train, epochs = 3) #trains the model we just built for 3 epochs \n",
    "                                        #(cycles through entire MNIST dataset)"
   ]
  },
  {
   "cell_type": "code",
   "execution_count": 36,
   "metadata": {},
   "outputs": [
    {
     "name": "stdout",
     "output_type": "stream",
     "text": [
      "313/313 [==============================] - 0s 751us/step - loss: 0.1037 - accuracy: 0.9699\n"
     ]
    }
   ],
   "source": [
    "val_loss, val_acc = model.evaluate(x_test, y_test) #model is tested using the validation dataset"
   ]
  },
  {
   "cell_type": "code",
   "execution_count": 37,
   "metadata": {},
   "outputs": [
    {
     "name": "stdout",
     "output_type": "stream",
     "text": [
      "WARNING:tensorflow:From /Library/Frameworks/Python.framework/Versions/3.7/lib/python3.7/site-packages/tensorflow/python/training/tracking/tracking.py:111: Model.state_updates (from tensorflow.python.keras.engine.training) is deprecated and will be removed in a future version.\n",
      "Instructions for updating:\n",
      "This property should not be used in TensorFlow 2.0, as updates are applied automatically.\n",
      "WARNING:tensorflow:From /Library/Frameworks/Python.framework/Versions/3.7/lib/python3.7/site-packages/tensorflow/python/training/tracking/tracking.py:111: Layer.updates (from tensorflow.python.keras.engine.base_layer) is deprecated and will be removed in a future version.\n",
      "Instructions for updating:\n",
      "This property should not be used in TensorFlow 2.0, as updates are applied automatically.\n",
      "INFO:tensorflow:Assets written to: George.model/assets\n"
     ]
    }
   ],
   "source": [
    "model.save('George.model')"
   ]
  },
  {
   "cell_type": "code",
   "execution_count": 38,
   "metadata": {},
   "outputs": [],
   "source": [
    "predictions = model.predict(x_test) #This has the model label the data. \n",
    "                                    #If you feed it new data it will guess the number\n"
   ]
  },
  {
   "cell_type": "code",
   "execution_count": 41,
   "metadata": {},
   "outputs": [
    {
     "name": "stdout",
     "output_type": "stream",
     "text": [
      "7\n",
      "2\n",
      "1\n",
      "0\n",
      "4\n",
      "1\n",
      "4\n",
      "9\n",
      "5\n",
      "9\n"
     ]
    }
   ],
   "source": [
    "import numpy as np\n",
    "for x in range(10):\n",
    "    print(np.argmax(predictions[x])) #.argmax() identifies the index of the maximum value in an array \n",
    "                                     #(the output array's max element is the 'guess' of the model)"
   ]
  },
  {
   "cell_type": "code",
   "execution_count": 43,
   "metadata": {},
   "outputs": [
    {
     "data": {
      "text/plain": [
       "<matplotlib.image.AxesImage at 0x7fc529bd6e10>"
      ]
     },
     "execution_count": 43,
     "metadata": {},
     "output_type": "execute_result"
    },
    {
     "data": {
      "image/png": "[encoded data removed]",
      "text/plain": [
       "<Figure size 432x288 with 1 Axes>"
      ]
     },
     "metadata": {
      "needs_background": "light"
     },
     "output_type": "display_data"
    }
   ],
   "source": [
    "plt.imshow(x_test[1])"
   ]
  },
  {
   "cell_type": "code",
   "execution_count": 44,
   "metadata": {},
   "outputs": [],
   "source": [
    "new_model = tf.keras.models.load_model('George.model') #Creates an instance of George.model"
   ]
  },
  {
   "cell_type": "code",
   "execution_count": 45,
   "metadata": {
    "scrolled": true
   },
   "outputs": [
    {
     "data": {
      "text/plain": [
       "array([[3.6922561e-09, 1.2254383e-06, 4.3105738e-06, ..., 9.9997544e-01,\n",
       "        1.0203983e-08, 8.4278984e-09],\n",
       "       [1.7372935e-10, 7.4002089e-04, 9.9924845e-01, ..., 7.9269888e-09,\n",
       "        4.5294475e-09, 3.6963205e-16],\n",
       "       [2.8249760e-09, 9.9999702e-01, 5.5286409e-07, ..., 1.0468480e-06,\n",
       "        5.3230264e-07, 2.1708813e-09],\n",
       "       ...,\n",
       "       [8.6083967e-09, 1.0553003e-06, 6.2471668e-09, ..., 1.6767297e-05,\n",
       "        1.5082035e-06, 1.6446564e-05],\n",
       "       [2.3511578e-07, 4.7546808e-07, 1.9746961e-08, ..., 9.1582734e-07,\n",
       "        6.4984051e-04, 4.6946258e-10],\n",
       "       [4.0852899e-07, 7.3893183e-11, 3.0601403e-11, ..., 1.2748627e-12,\n",
       "        4.0603748e-10, 1.3729699e-10]], dtype=float32)"
      ]
     },
     "execution_count": 45,
     "metadata": {},
     "output_type": "execute_result"
    }
   ],
   "source": []
  },
  {
   "cell_type": "code",
   "execution_count": null,
   "metadata": {},
   "outputs": [],
   "source": []
  }
 ],
 "metadata": {
  "kernelspec": {
   "display_name": "Python 3",
   "language": "python",
   "name": "python3"
  },
  "language_info": {
   "codemirror_mode": {
    "name": "ipython",
    "version": 3
   },
   "file_extension": ".py",
   "mimetype": "text/x-python",
   "name": "python",
   "nbconvert_exporter": "python",
   "pygments_lexer": "ipython3",
   "version": "3.7.3"
  }
 },
 "nbformat": 4,
 "nbformat_minor": 4
}
